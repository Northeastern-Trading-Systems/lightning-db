{
 "cells": [
  {
   "cell_type": "markdown",
   "metadata": {},
   "source": [
    "# Connecting to DB in RDS Guide\n",
    "### Miles Child - November 2022\n",
    "#### Northeastern Trading Systems"
   ]
  },
  {
   "cell_type": "markdown",
   "metadata": {},
   "source": [
    "#### Starting DB and importing necessary packages\n",
    "\n",
    "Once you have created your database in RDS, make sure that it is configured to be publicly accessible and that you've attached a security group that allows inbound/outbound access from 'All Traffic' on both IPv4 and IPv6. Save the login credentials of the DB as soon as you launch the instance.\n",
    "\n",
    "Next, navigate to your local python environment and install the pymysql package. This process can be very messy if done incorrectly the first time, so make sure you do the following:\n",
    "\n",
    "For Python 2.x:\n",
    "- sudo pip install pymysql.\n",
    "\n",
    "For Python 3.x:\n",
    "- sudo pip3 install pymysql.\n",
    "\n",
    "For either running on Anaconda:\n",
    "- sudo conda install pymysql.\n",
    "\n",
    "If that didn't work try APT:\n",
    "- sudo apt-get install pymysql.\n",
    "\n",
    "credit: https://stackoverflow.com/a/49354387/20355075\n",
    "\n",
    "Finally, 'import pymysql' in your project before continuing."
   ]
  },
  {
   "cell_type": "code",
   "execution_count": 1,
   "metadata": {},
   "outputs": [],
   "source": [
    "# imports\n",
    "import pymysql\n",
    "from config import *  # credentials stored here"
   ]
  },
  {
   "cell_type": "markdown",
   "metadata": {},
   "source": [
    "Now, establish a connection to the db by using pymysql.connect(host=<'someurl.rds.amazonaws.com'>, user=<'username'>, password=<'password'>).\n",
    "\n",
    "Create a cursor, which can essentially be regarded as an object that executes your queries (written locally) on the DB, stores the result in-memory, and returns it back to this project. Check that the connection and cursor have been made properly by checking the version of the db."
   ]
  },
  {
   "cell_type": "code",
   "execution_count": 2,
   "metadata": {},
   "outputs": [
    {
     "data": {
      "text/plain": [
       "1"
      ]
     },
     "execution_count": 2,
     "metadata": {},
     "output_type": "execute_result"
    }
   ],
   "source": [
    "connection = pymysql.connect(host=RDS_HOSTNAME, user=RDS_USER, password=RDS_PASSWORD)\n",
    "cursor = connection.cursor()\n",
    "cursor.execute('select version()')"
   ]
  },
  {
   "cell_type": "markdown",
   "metadata": {},
   "source": [
    "After successfully establishing a connection to the RDS instance, create a DB and add the neccessary tables/entities/attributes."
   ]
  },
  {
   "cell_type": "code",
   "execution_count": 8,
   "metadata": {},
   "outputs": [
    {
     "ename": "ProgrammingError",
     "evalue": "(1007, \"Can't create database 'nts_lightning_db'; database exists\")",
     "output_type": "error",
     "traceback": [
      "\u001b[0;31m---------------------------------------------------------------------------\u001b[0m",
      "\u001b[0;31mProgrammingError\u001b[0m                          Traceback (most recent call last)",
      "\u001b[1;32m/Users/MilesChild/Desktop/codeProjects/NTS/lightning-db/testing-notebook.ipynb Cell 7\u001b[0m in \u001b[0;36m<cell line: 2>\u001b[0;34m()\u001b[0m\n\u001b[1;32m      <a href='vscode-notebook-cell:/Users/MilesChild/Desktop/codeProjects/NTS/lightning-db/testing-notebook.ipynb#W6sZmlsZQ%3D%3D?line=0'>1</a>\u001b[0m \u001b[39m# Create a new database\u001b[39;00m\n\u001b[0;32m----> <a href='vscode-notebook-cell:/Users/MilesChild/Desktop/codeProjects/NTS/lightning-db/testing-notebook.ipynb#W6sZmlsZQ%3D%3D?line=1'>2</a>\u001b[0m cursor\u001b[39m.\u001b[39;49mexecute(\u001b[39m\"\u001b[39;49m\u001b[39mCREATE DATABASE nts_lightning_db;\u001b[39;49m\u001b[39m\"\u001b[39;49m)\n\u001b[1;32m      <a href='vscode-notebook-cell:/Users/MilesChild/Desktop/codeProjects/NTS/lightning-db/testing-notebook.ipynb#W6sZmlsZQ%3D%3D?line=2'>3</a>\u001b[0m cursor\u001b[39m.\u001b[39mexecute(\u001b[39mf\u001b[39m\u001b[39m\"\u001b[39m\u001b[39mCREATE USER \u001b[39m\u001b[39m'\u001b[39m\u001b[39mwebapp\u001b[39m\u001b[39m'\u001b[39m\u001b[39m@\u001b[39m\u001b[39m'\u001b[39m\u001b[39m%\u001b[39m\u001b[39m'\u001b[39m\u001b[39m IDENTIFIED BY \u001b[39m\u001b[39m{\u001b[39;00mDOCKER_DB_PASSWORD\u001b[39m}\u001b[39;00m\u001b[39m;\u001b[39m\u001b[39m\"\u001b[39m)\n\u001b[1;32m      <a href='vscode-notebook-cell:/Users/MilesChild/Desktop/codeProjects/NTS/lightning-db/testing-notebook.ipynb#W6sZmlsZQ%3D%3D?line=3'>4</a>\u001b[0m cursor\u001b[39m.\u001b[39mexecute(\u001b[39m\"\u001b[39m\u001b[39mGRANT ALL PRIVILEGES ON nts_lightning_db.* TO \u001b[39m\u001b[39m'\u001b[39m\u001b[39mwebapp\u001b[39m\u001b[39m'\u001b[39m\u001b[39m@\u001b[39m\u001b[39m'\u001b[39m\u001b[39m%\u001b[39m\u001b[39m'\u001b[39m\u001b[39m;\u001b[39m\u001b[39m\"\u001b[39m)\n",
      "File \u001b[0;32m~/opt/anaconda3/lib/python3.9/site-packages/pymysql/cursors.py:148\u001b[0m, in \u001b[0;36mCursor.execute\u001b[0;34m(self, query, args)\u001b[0m\n\u001b[1;32m    144\u001b[0m     \u001b[39mpass\u001b[39;00m\n\u001b[1;32m    146\u001b[0m query \u001b[39m=\u001b[39m \u001b[39mself\u001b[39m\u001b[39m.\u001b[39mmogrify(query, args)\n\u001b[0;32m--> 148\u001b[0m result \u001b[39m=\u001b[39m \u001b[39mself\u001b[39;49m\u001b[39m.\u001b[39;49m_query(query)\n\u001b[1;32m    149\u001b[0m \u001b[39mself\u001b[39m\u001b[39m.\u001b[39m_executed \u001b[39m=\u001b[39m query\n\u001b[1;32m    150\u001b[0m \u001b[39mreturn\u001b[39;00m result\n",
      "File \u001b[0;32m~/opt/anaconda3/lib/python3.9/site-packages/pymysql/cursors.py:310\u001b[0m, in \u001b[0;36mCursor._query\u001b[0;34m(self, q)\u001b[0m\n\u001b[1;32m    308\u001b[0m \u001b[39mself\u001b[39m\u001b[39m.\u001b[39m_last_executed \u001b[39m=\u001b[39m q\n\u001b[1;32m    309\u001b[0m \u001b[39mself\u001b[39m\u001b[39m.\u001b[39m_clear_result()\n\u001b[0;32m--> 310\u001b[0m conn\u001b[39m.\u001b[39;49mquery(q)\n\u001b[1;32m    311\u001b[0m \u001b[39mself\u001b[39m\u001b[39m.\u001b[39m_do_get_result()\n\u001b[1;32m    312\u001b[0m \u001b[39mreturn\u001b[39;00m \u001b[39mself\u001b[39m\u001b[39m.\u001b[39mrowcount\n",
      "File \u001b[0;32m~/opt/anaconda3/lib/python3.9/site-packages/pymysql/connections.py:548\u001b[0m, in \u001b[0;36mConnection.query\u001b[0;34m(self, sql, unbuffered)\u001b[0m\n\u001b[1;32m    546\u001b[0m     sql \u001b[39m=\u001b[39m sql\u001b[39m.\u001b[39mencode(\u001b[39mself\u001b[39m\u001b[39m.\u001b[39mencoding, \u001b[39m\"\u001b[39m\u001b[39msurrogateescape\u001b[39m\u001b[39m\"\u001b[39m)\n\u001b[1;32m    547\u001b[0m \u001b[39mself\u001b[39m\u001b[39m.\u001b[39m_execute_command(COMMAND\u001b[39m.\u001b[39mCOM_QUERY, sql)\n\u001b[0;32m--> 548\u001b[0m \u001b[39mself\u001b[39m\u001b[39m.\u001b[39m_affected_rows \u001b[39m=\u001b[39m \u001b[39mself\u001b[39;49m\u001b[39m.\u001b[39;49m_read_query_result(unbuffered\u001b[39m=\u001b[39;49munbuffered)\n\u001b[1;32m    549\u001b[0m \u001b[39mreturn\u001b[39;00m \u001b[39mself\u001b[39m\u001b[39m.\u001b[39m_affected_rows\n",
      "File \u001b[0;32m~/opt/anaconda3/lib/python3.9/site-packages/pymysql/connections.py:775\u001b[0m, in \u001b[0;36mConnection._read_query_result\u001b[0;34m(self, unbuffered)\u001b[0m\n\u001b[1;32m    773\u001b[0m \u001b[39melse\u001b[39;00m:\n\u001b[1;32m    774\u001b[0m     result \u001b[39m=\u001b[39m MySQLResult(\u001b[39mself\u001b[39m)\n\u001b[0;32m--> 775\u001b[0m     result\u001b[39m.\u001b[39;49mread()\n\u001b[1;32m    776\u001b[0m \u001b[39mself\u001b[39m\u001b[39m.\u001b[39m_result \u001b[39m=\u001b[39m result\n\u001b[1;32m    777\u001b[0m \u001b[39mif\u001b[39;00m result\u001b[39m.\u001b[39mserver_status \u001b[39mis\u001b[39;00m \u001b[39mnot\u001b[39;00m \u001b[39mNone\u001b[39;00m:\n",
      "File \u001b[0;32m~/opt/anaconda3/lib/python3.9/site-packages/pymysql/connections.py:1156\u001b[0m, in \u001b[0;36mMySQLResult.read\u001b[0;34m(self)\u001b[0m\n\u001b[1;32m   1154\u001b[0m \u001b[39mdef\u001b[39;00m \u001b[39mread\u001b[39m(\u001b[39mself\u001b[39m):\n\u001b[1;32m   1155\u001b[0m     \u001b[39mtry\u001b[39;00m:\n\u001b[0;32m-> 1156\u001b[0m         first_packet \u001b[39m=\u001b[39m \u001b[39mself\u001b[39;49m\u001b[39m.\u001b[39;49mconnection\u001b[39m.\u001b[39;49m_read_packet()\n\u001b[1;32m   1158\u001b[0m         \u001b[39mif\u001b[39;00m first_packet\u001b[39m.\u001b[39mis_ok_packet():\n\u001b[1;32m   1159\u001b[0m             \u001b[39mself\u001b[39m\u001b[39m.\u001b[39m_read_ok_packet(first_packet)\n",
      "File \u001b[0;32m~/opt/anaconda3/lib/python3.9/site-packages/pymysql/connections.py:725\u001b[0m, in \u001b[0;36mConnection._read_packet\u001b[0;34m(self, packet_type)\u001b[0m\n\u001b[1;32m    723\u001b[0m     \u001b[39mif\u001b[39;00m \u001b[39mself\u001b[39m\u001b[39m.\u001b[39m_result \u001b[39mis\u001b[39;00m \u001b[39mnot\u001b[39;00m \u001b[39mNone\u001b[39;00m \u001b[39mand\u001b[39;00m \u001b[39mself\u001b[39m\u001b[39m.\u001b[39m_result\u001b[39m.\u001b[39munbuffered_active \u001b[39mis\u001b[39;00m \u001b[39mTrue\u001b[39;00m:\n\u001b[1;32m    724\u001b[0m         \u001b[39mself\u001b[39m\u001b[39m.\u001b[39m_result\u001b[39m.\u001b[39munbuffered_active \u001b[39m=\u001b[39m \u001b[39mFalse\u001b[39;00m\n\u001b[0;32m--> 725\u001b[0m     packet\u001b[39m.\u001b[39;49mraise_for_error()\n\u001b[1;32m    726\u001b[0m \u001b[39mreturn\u001b[39;00m packet\n",
      "File \u001b[0;32m~/opt/anaconda3/lib/python3.9/site-packages/pymysql/protocol.py:221\u001b[0m, in \u001b[0;36mMysqlPacket.raise_for_error\u001b[0;34m(self)\u001b[0m\n\u001b[1;32m    219\u001b[0m \u001b[39mif\u001b[39;00m DEBUG:\n\u001b[1;32m    220\u001b[0m     \u001b[39mprint\u001b[39m(\u001b[39m\"\u001b[39m\u001b[39merrno =\u001b[39m\u001b[39m\"\u001b[39m, errno)\n\u001b[0;32m--> 221\u001b[0m err\u001b[39m.\u001b[39;49mraise_mysql_exception(\u001b[39mself\u001b[39;49m\u001b[39m.\u001b[39;49m_data)\n",
      "File \u001b[0;32m~/opt/anaconda3/lib/python3.9/site-packages/pymysql/err.py:143\u001b[0m, in \u001b[0;36mraise_mysql_exception\u001b[0;34m(data)\u001b[0m\n\u001b[1;32m    141\u001b[0m \u001b[39mif\u001b[39;00m errorclass \u001b[39mis\u001b[39;00m \u001b[39mNone\u001b[39;00m:\n\u001b[1;32m    142\u001b[0m     errorclass \u001b[39m=\u001b[39m InternalError \u001b[39mif\u001b[39;00m errno \u001b[39m<\u001b[39m \u001b[39m1000\u001b[39m \u001b[39melse\u001b[39;00m OperationalError\n\u001b[0;32m--> 143\u001b[0m \u001b[39mraise\u001b[39;00m errorclass(errno, errval)\n",
      "\u001b[0;31mProgrammingError\u001b[0m: (1007, \"Can't create database 'nts_lightning_db'; database exists\")"
     ]
    }
   ],
   "source": [
    "# Create a new database\n",
    "cursor.execute(\"CREATE DATABASE nts_lightning_db;\")\n",
    "cursor.execute(f\"CREATE USER 'webapp'@'%' IDENTIFIED BY {DOCKER_DB_PASSWORD};\")\n",
    "cursor.execute(\"GRANT ALL PRIVILEGES ON nts_lightning_db.* TO 'webapp'@'%';\")\n",
    "cursor.execute(\"FLUSH PRIVILEGES;\")\n",
    "cursor.execute(\"USE nts_lightning_db;\")"
   ]
  },
  {
   "cell_type": "code",
   "execution_count": 9,
   "metadata": {},
   "outputs": [
    {
     "ename": "OperationalError",
     "evalue": "(1050, \"Table 'strategy' already exists\")",
     "output_type": "error",
     "traceback": [
      "\u001b[0;31m---------------------------------------------------------------------------\u001b[0m",
      "\u001b[0;31mOperationalError\u001b[0m                          Traceback (most recent call last)",
      "\u001b[1;32m/Users/MilesChild/Desktop/codeProjects/NTS/lightning-db/testing-notebook.ipynb Cell 8\u001b[0m in \u001b[0;36m<cell line: 2>\u001b[0;34m()\u001b[0m\n\u001b[1;32m      <a href='vscode-notebook-cell:/Users/MilesChild/Desktop/codeProjects/NTS/lightning-db/testing-notebook.ipynb#X10sZmlsZQ%3D%3D?line=0'>1</a>\u001b[0m \u001b[39m# Create the tables\u001b[39;00m\n\u001b[0;32m----> <a href='vscode-notebook-cell:/Users/MilesChild/Desktop/codeProjects/NTS/lightning-db/testing-notebook.ipynb#X10sZmlsZQ%3D%3D?line=1'>2</a>\u001b[0m cursor\u001b[39m.\u001b[39;49mexecute(\u001b[39m\"\"\"\u001b[39;49m\u001b[39mCREATE TABLE strategy (\u001b[39;49m\n\u001b[1;32m      <a href='vscode-notebook-cell:/Users/MilesChild/Desktop/codeProjects/NTS/lightning-db/testing-notebook.ipynb#X10sZmlsZQ%3D%3D?line=2'>3</a>\u001b[0m \u001b[39m    strategy_name varchar(50),\u001b[39;49m\n\u001b[1;32m      <a href='vscode-notebook-cell:/Users/MilesChild/Desktop/codeProjects/NTS/lightning-db/testing-notebook.ipynb#X10sZmlsZQ%3D%3D?line=3'>4</a>\u001b[0m \u001b[39m    strategy_id integer AUTO_INCREMENT NOT NULL,\u001b[39;49m\n\u001b[1;32m      <a href='vscode-notebook-cell:/Users/MilesChild/Desktop/codeProjects/NTS/lightning-db/testing-notebook.ipynb#X10sZmlsZQ%3D%3D?line=4'>5</a>\u001b[0m \u001b[39m    documentation_link varchar(50),\u001b[39;49m\n\u001b[1;32m      <a href='vscode-notebook-cell:/Users/MilesChild/Desktop/codeProjects/NTS/lightning-db/testing-notebook.ipynb#X10sZmlsZQ%3D%3D?line=5'>6</a>\u001b[0m \u001b[39m    launch_date datetime,\u001b[39;49m\n\u001b[1;32m      <a href='vscode-notebook-cell:/Users/MilesChild/Desktop/codeProjects/NTS/lightning-db/testing-notebook.ipynb#X10sZmlsZQ%3D%3D?line=6'>7</a>\u001b[0m \u001b[39m    termination_date datetime,\u001b[39;49m\n\u001b[1;32m      <a href='vscode-notebook-cell:/Users/MilesChild/Desktop/codeProjects/NTS/lightning-db/testing-notebook.ipynb#X10sZmlsZQ%3D%3D?line=7'>8</a>\u001b[0m \u001b[39m    PRIMARY KEY (strategy_id)\u001b[39;49m\n\u001b[1;32m      <a href='vscode-notebook-cell:/Users/MilesChild/Desktop/codeProjects/NTS/lightning-db/testing-notebook.ipynb#X10sZmlsZQ%3D%3D?line=8'>9</a>\u001b[0m \u001b[39m);\u001b[39;49m\u001b[39m\"\"\"\u001b[39;49m)\n",
      "File \u001b[0;32m~/opt/anaconda3/lib/python3.9/site-packages/pymysql/cursors.py:148\u001b[0m, in \u001b[0;36mCursor.execute\u001b[0;34m(self, query, args)\u001b[0m\n\u001b[1;32m    144\u001b[0m     \u001b[39mpass\u001b[39;00m\n\u001b[1;32m    146\u001b[0m query \u001b[39m=\u001b[39m \u001b[39mself\u001b[39m\u001b[39m.\u001b[39mmogrify(query, args)\n\u001b[0;32m--> 148\u001b[0m result \u001b[39m=\u001b[39m \u001b[39mself\u001b[39;49m\u001b[39m.\u001b[39;49m_query(query)\n\u001b[1;32m    149\u001b[0m \u001b[39mself\u001b[39m\u001b[39m.\u001b[39m_executed \u001b[39m=\u001b[39m query\n\u001b[1;32m    150\u001b[0m \u001b[39mreturn\u001b[39;00m result\n",
      "File \u001b[0;32m~/opt/anaconda3/lib/python3.9/site-packages/pymysql/cursors.py:310\u001b[0m, in \u001b[0;36mCursor._query\u001b[0;34m(self, q)\u001b[0m\n\u001b[1;32m    308\u001b[0m \u001b[39mself\u001b[39m\u001b[39m.\u001b[39m_last_executed \u001b[39m=\u001b[39m q\n\u001b[1;32m    309\u001b[0m \u001b[39mself\u001b[39m\u001b[39m.\u001b[39m_clear_result()\n\u001b[0;32m--> 310\u001b[0m conn\u001b[39m.\u001b[39;49mquery(q)\n\u001b[1;32m    311\u001b[0m \u001b[39mself\u001b[39m\u001b[39m.\u001b[39m_do_get_result()\n\u001b[1;32m    312\u001b[0m \u001b[39mreturn\u001b[39;00m \u001b[39mself\u001b[39m\u001b[39m.\u001b[39mrowcount\n",
      "File \u001b[0;32m~/opt/anaconda3/lib/python3.9/site-packages/pymysql/connections.py:548\u001b[0m, in \u001b[0;36mConnection.query\u001b[0;34m(self, sql, unbuffered)\u001b[0m\n\u001b[1;32m    546\u001b[0m     sql \u001b[39m=\u001b[39m sql\u001b[39m.\u001b[39mencode(\u001b[39mself\u001b[39m\u001b[39m.\u001b[39mencoding, \u001b[39m\"\u001b[39m\u001b[39msurrogateescape\u001b[39m\u001b[39m\"\u001b[39m)\n\u001b[1;32m    547\u001b[0m \u001b[39mself\u001b[39m\u001b[39m.\u001b[39m_execute_command(COMMAND\u001b[39m.\u001b[39mCOM_QUERY, sql)\n\u001b[0;32m--> 548\u001b[0m \u001b[39mself\u001b[39m\u001b[39m.\u001b[39m_affected_rows \u001b[39m=\u001b[39m \u001b[39mself\u001b[39;49m\u001b[39m.\u001b[39;49m_read_query_result(unbuffered\u001b[39m=\u001b[39;49munbuffered)\n\u001b[1;32m    549\u001b[0m \u001b[39mreturn\u001b[39;00m \u001b[39mself\u001b[39m\u001b[39m.\u001b[39m_affected_rows\n",
      "File \u001b[0;32m~/opt/anaconda3/lib/python3.9/site-packages/pymysql/connections.py:775\u001b[0m, in \u001b[0;36mConnection._read_query_result\u001b[0;34m(self, unbuffered)\u001b[0m\n\u001b[1;32m    773\u001b[0m \u001b[39melse\u001b[39;00m:\n\u001b[1;32m    774\u001b[0m     result \u001b[39m=\u001b[39m MySQLResult(\u001b[39mself\u001b[39m)\n\u001b[0;32m--> 775\u001b[0m     result\u001b[39m.\u001b[39;49mread()\n\u001b[1;32m    776\u001b[0m \u001b[39mself\u001b[39m\u001b[39m.\u001b[39m_result \u001b[39m=\u001b[39m result\n\u001b[1;32m    777\u001b[0m \u001b[39mif\u001b[39;00m result\u001b[39m.\u001b[39mserver_status \u001b[39mis\u001b[39;00m \u001b[39mnot\u001b[39;00m \u001b[39mNone\u001b[39;00m:\n",
      "File \u001b[0;32m~/opt/anaconda3/lib/python3.9/site-packages/pymysql/connections.py:1156\u001b[0m, in \u001b[0;36mMySQLResult.read\u001b[0;34m(self)\u001b[0m\n\u001b[1;32m   1154\u001b[0m \u001b[39mdef\u001b[39;00m \u001b[39mread\u001b[39m(\u001b[39mself\u001b[39m):\n\u001b[1;32m   1155\u001b[0m     \u001b[39mtry\u001b[39;00m:\n\u001b[0;32m-> 1156\u001b[0m         first_packet \u001b[39m=\u001b[39m \u001b[39mself\u001b[39;49m\u001b[39m.\u001b[39;49mconnection\u001b[39m.\u001b[39;49m_read_packet()\n\u001b[1;32m   1158\u001b[0m         \u001b[39mif\u001b[39;00m first_packet\u001b[39m.\u001b[39mis_ok_packet():\n\u001b[1;32m   1159\u001b[0m             \u001b[39mself\u001b[39m\u001b[39m.\u001b[39m_read_ok_packet(first_packet)\n",
      "File \u001b[0;32m~/opt/anaconda3/lib/python3.9/site-packages/pymysql/connections.py:725\u001b[0m, in \u001b[0;36mConnection._read_packet\u001b[0;34m(self, packet_type)\u001b[0m\n\u001b[1;32m    723\u001b[0m     \u001b[39mif\u001b[39;00m \u001b[39mself\u001b[39m\u001b[39m.\u001b[39m_result \u001b[39mis\u001b[39;00m \u001b[39mnot\u001b[39;00m \u001b[39mNone\u001b[39;00m \u001b[39mand\u001b[39;00m \u001b[39mself\u001b[39m\u001b[39m.\u001b[39m_result\u001b[39m.\u001b[39munbuffered_active \u001b[39mis\u001b[39;00m \u001b[39mTrue\u001b[39;00m:\n\u001b[1;32m    724\u001b[0m         \u001b[39mself\u001b[39m\u001b[39m.\u001b[39m_result\u001b[39m.\u001b[39munbuffered_active \u001b[39m=\u001b[39m \u001b[39mFalse\u001b[39;00m\n\u001b[0;32m--> 725\u001b[0m     packet\u001b[39m.\u001b[39;49mraise_for_error()\n\u001b[1;32m    726\u001b[0m \u001b[39mreturn\u001b[39;00m packet\n",
      "File \u001b[0;32m~/opt/anaconda3/lib/python3.9/site-packages/pymysql/protocol.py:221\u001b[0m, in \u001b[0;36mMysqlPacket.raise_for_error\u001b[0;34m(self)\u001b[0m\n\u001b[1;32m    219\u001b[0m \u001b[39mif\u001b[39;00m DEBUG:\n\u001b[1;32m    220\u001b[0m     \u001b[39mprint\u001b[39m(\u001b[39m\"\u001b[39m\u001b[39merrno =\u001b[39m\u001b[39m\"\u001b[39m, errno)\n\u001b[0;32m--> 221\u001b[0m err\u001b[39m.\u001b[39;49mraise_mysql_exception(\u001b[39mself\u001b[39;49m\u001b[39m.\u001b[39;49m_data)\n",
      "File \u001b[0;32m~/opt/anaconda3/lib/python3.9/site-packages/pymysql/err.py:143\u001b[0m, in \u001b[0;36mraise_mysql_exception\u001b[0;34m(data)\u001b[0m\n\u001b[1;32m    141\u001b[0m \u001b[39mif\u001b[39;00m errorclass \u001b[39mis\u001b[39;00m \u001b[39mNone\u001b[39;00m:\n\u001b[1;32m    142\u001b[0m     errorclass \u001b[39m=\u001b[39m InternalError \u001b[39mif\u001b[39;00m errno \u001b[39m<\u001b[39m \u001b[39m1000\u001b[39m \u001b[39melse\u001b[39;00m OperationalError\n\u001b[0;32m--> 143\u001b[0m \u001b[39mraise\u001b[39;00m errorclass(errno, errval)\n",
      "\u001b[0;31mOperationalError\u001b[0m: (1050, \"Table 'strategy' already exists\")"
     ]
    }
   ],
   "source": [
    "# Create the tables\n",
    "cursor.execute(\"\"\"CREATE TABLE strategy (\n",
    "    strategy_name varchar(50),\n",
    "    strategy_id integer AUTO_INCREMENT NOT NULL,\n",
    "    documentation_link varchar(50),\n",
    "    launch_date datetime,\n",
    "    termination_date datetime,\n",
    "    PRIMARY KEY (strategy_id)\n",
    ");\"\"\")"
   ]
  },
  {
   "cell_type": "code",
   "execution_count": 13,
   "metadata": {},
   "outputs": [
    {
     "data": {
      "text/plain": [
       "0"
      ]
     },
     "execution_count": 13,
     "metadata": {},
     "output_type": "execute_result"
    }
   ],
   "source": [
    "cursor.execute(\"\"\"CREATE TABLE trade (\n",
    "    trade_id integer UNIQUE NOT NULL,\n",
    "    strategy_id integer,\n",
    "    open_time datetime,\n",
    "    close_time datetime,\n",
    "    PRIMARY KEY (trade_id),\n",
    "    CONSTRAINT fk_1 \n",
    "        FOREIGN KEY (strategy_id) REFERENCES strategy(strategy_id)\n",
    "        ON UPDATE cascade ON DELETE restrict\n",
    ");\"\"\")"
   ]
  },
  {
   "cell_type": "code",
   "execution_count": 15,
   "metadata": {},
   "outputs": [
    {
     "data": {
      "text/plain": [
       "0"
      ]
     },
     "execution_count": 15,
     "metadata": {},
     "output_type": "execute_result"
    }
   ],
   "source": [
    "cursor.execute(\"\"\"CREATE TABLE trade_leg (\n",
    "    leg_no integer NOT NULL,\n",
    "    trade_id integer NOT NULL,\n",
    "    contract varchar(50),\n",
    "    open_time datetime,\n",
    "    close_time datetime,\n",
    "    PRIMARY KEY(leg_no, trade_id),\n",
    "    CONSTRAINT fk_2\n",
    "        FOREIGN KEY (trade_id) REFERENCES trade (trade_id)\n",
    "        ON UPDATE restrict ON DELETE restrict\n",
    ");\"\"\")"
   ]
  },
  {
   "cell_type": "code",
   "execution_count": 18,
   "metadata": {},
   "outputs": [
    {
     "data": {
      "text/plain": [
       "0"
      ]
     },
     "execution_count": 18,
     "metadata": {},
     "output_type": "execute_result"
    }
   ],
   "source": [
    "cursor.execute(\"\"\"CREATE TABLE fill (\n",
    "    fill_id integer NOT NULL,\n",
    "    leg_no integer NOT NULL,\n",
    "    trade_id integer NOT NULL,\n",
    "    contract varchar(50),\n",
    "    qty integer,\n",
    "    avg float(32),\n",
    "    placement_time datetime,\n",
    "    filled_time datetime,\n",
    "    PRIMARY KEY (fill_id),\n",
    "    CONSTRAINT fk_3\n",
    "        FOREIGN KEY (leg_no, trade_id) REFERENCES trade_leg (leg_no, trade_id)\n",
    "        ON UPDATE cascade ON DELETE restrict\n",
    ");\"\"\")"
   ]
  },
  {
   "cell_type": "markdown",
   "metadata": {},
   "source": [
    "After creating the database architecture, insert testing (or historical) data into the tables.\n",
    "\n",
    "note: mockaroo is good for generating dummy data https://www.mockaroo.com/"
   ]
  },
  {
   "cell_type": "code",
   "execution_count": 10,
   "metadata": {},
   "outputs": [
    {
     "data": {
      "text/plain": [
       "1"
      ]
     },
     "execution_count": 10,
     "metadata": {},
     "output_type": "execute_result"
    }
   ],
   "source": [
    "# Strategy Dummy Data\n",
    "cursor.execute(\"\"\"insert into strategy (strategy_name, strategy_id, documentation_link, launch_date, termination_date) \n",
    "values \n",
    "('MeanReversionLunchBreak', '1', 'https://github.com/QuantConnect/Lean/blob/master/Algorithm.Python/Alphas/MeanReversionLunchBreakAlpha.py',\n",
    " '2022-11-20 00:00:00', NULL);\"\"\")\n"
   ]
  },
  {
   "cell_type": "code",
   "execution_count": 11,
   "metadata": {},
   "outputs": [
    {
     "data": {
      "text/plain": [
       "1"
      ]
     },
     "execution_count": 11,
     "metadata": {},
     "output_type": "execute_result"
    }
   ],
   "source": [
    "# Trade Dummy Data\n",
    "cursor.execute(\"\"\"insert into trade (trade_id, strategy_id, open_time, close_time) \n",
    "values \n",
    "('000000001', '1', '2022-11-21 12:00:00', '2022-11-21 12:25:00');\n",
    "\"\"\")\n",
    "cursor.execute(\"\"\"insert into trade (trade_id, strategy_id, open_time, close_time) \n",
    "values \n",
    "('000000002', '1', '2022-11-22 11:49:00', '2022-11-22 12:03:00');\n",
    "\"\"\")"
   ]
  },
  {
   "cell_type": "code",
   "execution_count": 12,
   "metadata": {},
   "outputs": [
    {
     "data": {
      "text/plain": [
       "1"
      ]
     },
     "execution_count": 12,
     "metadata": {},
     "output_type": "execute_result"
    }
   ],
   "source": [
    "# Trade Leg Dummy Data\n",
    "cursor.execute(\"\"\"insert into trade_leg (leg_no, trade_id, contract, open_time, close_time) \n",
    "values \n",
    "('1', '000000001', 'SPY', '2022-11-21 12:00:00', '2022-11-21 12:25:00');\n",
    "\"\"\")\n",
    "\n",
    "# note: the below data represents the following trade:\n",
    "# Seller of AAPL 148/150 Dec. 02 call spread\n",
    "cursor.execute(\"\"\"insert into trade_leg (leg_no, trade_id, contract, open_time, close_time) \n",
    "values \n",
    "('1', '000000002', 'AAPL221202C00148000', '2022-11-22 11:49:00', '2022-11-22 12:03:00');\n",
    "\"\"\")\n",
    "cursor.execute(\"\"\"insert into trade_leg (leg_no, trade_id, contract, open_time, close_time) \n",
    "values \n",
    "('2', '000000002', 'AAPL221202C00150000', '2022-11-22 11:49:00', '2022-11-22 12:03:00');\n",
    "\"\"\")"
   ]
  },
  {
   "cell_type": "code",
   "execution_count": 13,
   "metadata": {},
   "outputs": [
    {
     "data": {
      "text/plain": [
       "1"
      ]
     },
     "execution_count": 13,
     "metadata": {},
     "output_type": "execute_result"
    }
   ],
   "source": [
    "# Fill Dummy Data\n",
    "cursor.execute(\"\"\"insert into fill (fill_id, leg_no, trade_id, contract, qty, avg, placement_time, filled_time) \n",
    "values \n",
    "('000000001', '1', '000000001', 'SPY', '-100', '400.00', '2022-11-21 12:00:00', '2022-11-21 12:00:01');\n",
    "\"\"\")\n",
    "\n",
    "cursor.execute(\"\"\"insert into fill (fill_id, leg_no, trade_id, contract, qty, avg, placement_time, filled_time) \n",
    "values \n",
    "('000000002', '1', '000000001', 'SPY', '100', '397.00', '2022-11-21 12:24:58', '2022-11-21 12:25:00');\n",
    "\"\"\")\n",
    "\n",
    "\n",
    "# note: the below data represents the following trade:\n",
    "# Seller of AAPL 148/150 Dec. 02 call spread 2.50 @ 2.00, 10 x 10\n",
    "\n",
    "cursor.execute(\"\"\"insert into fill (fill_id, leg_no, trade_id, contract, qty, avg, placement_time, filled_time) \n",
    "values \n",
    "('000000003', '1', '000000002', 'AAPL221202C00148000', '-10', '2.50', '2022-11-22 11:49:00', '2022-11-22 11:49:01');\n",
    "\"\"\")\n",
    "\n",
    "cursor.execute(\"\"\"insert into fill (fill_id, leg_no, trade_id, contract, qty, avg, placement_time, filled_time) \n",
    "values \n",
    "('000000004', '2', '000000002', 'AAPL221202C00150000', '10', '2.00', '2022-11-21 11:49:00', '2022-11-21 11:49:01');\n",
    "\"\"\")\n",
    "\n",
    "cursor.execute(\"\"\"insert into fill (fill_id, leg_no, trade_id, contract, qty, avg, placement_time, filled_time) \n",
    "values \n",
    "('000000005', '1', '000000002', 'AAPL221202C00148000', '10', '2.25', '2022-11-22 12:02:59', '2022-11-22 12:02:59');\n",
    "\"\"\")\n",
    "\n",
    "cursor.execute(\"\"\"insert into fill (fill_id, leg_no, trade_id, contract, qty, avg, placement_time, filled_time) \n",
    "values \n",
    "('000000006', '2', '000000002', 'AAPL221202C00150000', '-10', '1.90', '2022-11-22 12:02:59', '2022-11-22 12:03:00');\n",
    "\"\"\")"
   ]
  },
  {
   "cell_type": "code",
   "execution_count": 14,
   "metadata": {},
   "outputs": [
    {
     "data": {
      "text/plain": [
       "[{'fill_id': 1,\n",
       "  'leg_no': 1,\n",
       "  'trade_id': 1,\n",
       "  'contract': 'SPY',\n",
       "  'qty': -100,\n",
       "  'avg': 400.0,\n",
       "  'placement_time': datetime.datetime(2022, 11, 21, 12, 0),\n",
       "  'filled_time': datetime.datetime(2022, 11, 21, 12, 0, 1)},\n",
       " {'fill_id': 2,\n",
       "  'leg_no': 1,\n",
       "  'trade_id': 1,\n",
       "  'contract': 'SPY',\n",
       "  'qty': 100,\n",
       "  'avg': 397.0,\n",
       "  'placement_time': datetime.datetime(2022, 11, 21, 12, 24, 58),\n",
       "  'filled_time': datetime.datetime(2022, 11, 21, 12, 25)},\n",
       " {'fill_id': 3,\n",
       "  'leg_no': 1,\n",
       "  'trade_id': 2,\n",
       "  'contract': 'AAPL221202C00148000',\n",
       "  'qty': -10,\n",
       "  'avg': 2.5,\n",
       "  'placement_time': datetime.datetime(2022, 11, 22, 11, 49),\n",
       "  'filled_time': datetime.datetime(2022, 11, 22, 11, 49, 1)},\n",
       " {'fill_id': 4,\n",
       "  'leg_no': 2,\n",
       "  'trade_id': 2,\n",
       "  'contract': 'AAPL221202C00150000',\n",
       "  'qty': 10,\n",
       "  'avg': 2.0,\n",
       "  'placement_time': datetime.datetime(2022, 11, 21, 11, 49),\n",
       "  'filled_time': datetime.datetime(2022, 11, 21, 11, 49, 1)},\n",
       " {'fill_id': 5,\n",
       "  'leg_no': 1,\n",
       "  'trade_id': 2,\n",
       "  'contract': 'AAPL221202C00148000',\n",
       "  'qty': 10,\n",
       "  'avg': 2.25,\n",
       "  'placement_time': datetime.datetime(2022, 11, 22, 12, 2, 59),\n",
       "  'filled_time': datetime.datetime(2022, 11, 22, 12, 2, 59)},\n",
       " {'fill_id': 6,\n",
       "  'leg_no': 2,\n",
       "  'trade_id': 2,\n",
       "  'contract': 'AAPL221202C00150000',\n",
       "  'qty': -10,\n",
       "  'avg': 1.9,\n",
       "  'placement_time': datetime.datetime(2022, 11, 22, 12, 2, 59),\n",
       "  'filled_time': datetime.datetime(2022, 11, 22, 12, 3)}]"
      ]
     },
     "execution_count": 14,
     "metadata": {},
     "output_type": "execute_result"
    }
   ],
   "source": [
    "# Testing that all dummy data was inserted properly and exists in the db.\n",
    "\n",
    "cursor.execute('SELECT * from fill;')\n",
    "col_headers = [x[0] for x in cursor.description]\n",
    "json_data = []\n",
    "the_data = cursor.fetchall()\n",
    "for row in the_data:\n",
    "    json_data.append(dict(zip(col_headers, row)))\n",
    "json_data"
   ]
  },
  {
   "cell_type": "code",
   "execution_count": 22,
   "metadata": {},
   "outputs": [
    {
     "data": {
      "text/plain": [
       "[{'strategy_name': 'MeanReversionLunchBreak',\n",
       "  'strategy_id': 1,\n",
       "  'documentation_link': 'https://github.com/QuantConnect/Lean/blob/master/A',\n",
       "  'launch_date': datetime.datetime(2022, 11, 20, 0, 0),\n",
       "  'termination_date': None}]"
      ]
     },
     "execution_count": 22,
     "metadata": {},
     "output_type": "execute_result"
    }
   ],
   "source": [
    "# Testing get_strategy_info\n",
    "\n",
    "import pandas as pd\n",
    "\n",
    "cursor.execute('SELECT * from strategy;')\n",
    "col_headers = [x[0] for x in cursor.description]\n",
    "json_data = []\n",
    "the_data = cursor.fetchall()\n",
    "for row in the_data:\n",
    "    json_data.append(dict(zip(col_headers, row)))\n",
    "json_data"
   ]
  },
  {
   "cell_type": "code",
   "execution_count": 30,
   "metadata": {},
   "outputs": [
    {
     "data": {
      "text/html": [
       "<div>\n",
       "<style scoped>\n",
       "    .dataframe tbody tr th:only-of-type {\n",
       "        vertical-align: middle;\n",
       "    }\n",
       "\n",
       "    .dataframe tbody tr th {\n",
       "        vertical-align: top;\n",
       "    }\n",
       "\n",
       "    .dataframe thead th {\n",
       "        text-align: right;\n",
       "    }\n",
       "</style>\n",
       "<table border=\"1\" class=\"dataframe\">\n",
       "  <thead>\n",
       "    <tr style=\"text-align: right;\">\n",
       "      <th></th>\n",
       "      <th>trade_id</th>\n",
       "      <th>strategy_id</th>\n",
       "      <th>open_time</th>\n",
       "      <th>close_time</th>\n",
       "      <th>leg_no</th>\n",
       "      <th>contract</th>\n",
       "      <th>fill_id</th>\n",
       "      <th>qty</th>\n",
       "      <th>avg</th>\n",
       "      <th>placement_time</th>\n",
       "      <th>filled_time</th>\n",
       "    </tr>\n",
       "  </thead>\n",
       "  <tbody>\n",
       "    <tr>\n",
       "      <th>0</th>\n",
       "      <td>2</td>\n",
       "      <td>1</td>\n",
       "      <td>2022-11-22 11:49:00</td>\n",
       "      <td>2022-11-22 12:03:00</td>\n",
       "      <td>1</td>\n",
       "      <td>AAPL221202C00148000</td>\n",
       "      <td>3</td>\n",
       "      <td>-10</td>\n",
       "      <td>2.50</td>\n",
       "      <td>2022-11-22 11:49:00</td>\n",
       "      <td>2022-11-22 11:49:01</td>\n",
       "    </tr>\n",
       "    <tr>\n",
       "      <th>1</th>\n",
       "      <td>2</td>\n",
       "      <td>1</td>\n",
       "      <td>2022-11-22 11:49:00</td>\n",
       "      <td>2022-11-22 12:03:00</td>\n",
       "      <td>1</td>\n",
       "      <td>AAPL221202C00148000</td>\n",
       "      <td>5</td>\n",
       "      <td>10</td>\n",
       "      <td>2.25</td>\n",
       "      <td>2022-11-22 12:02:59</td>\n",
       "      <td>2022-11-22 12:02:59</td>\n",
       "    </tr>\n",
       "    <tr>\n",
       "      <th>2</th>\n",
       "      <td>2</td>\n",
       "      <td>1</td>\n",
       "      <td>2022-11-22 11:49:00</td>\n",
       "      <td>2022-11-22 12:03:00</td>\n",
       "      <td>2</td>\n",
       "      <td>AAPL221202C00150000</td>\n",
       "      <td>4</td>\n",
       "      <td>10</td>\n",
       "      <td>2.00</td>\n",
       "      <td>2022-11-21 11:49:00</td>\n",
       "      <td>2022-11-21 11:49:01</td>\n",
       "    </tr>\n",
       "    <tr>\n",
       "      <th>3</th>\n",
       "      <td>2</td>\n",
       "      <td>1</td>\n",
       "      <td>2022-11-22 11:49:00</td>\n",
       "      <td>2022-11-22 12:03:00</td>\n",
       "      <td>2</td>\n",
       "      <td>AAPL221202C00150000</td>\n",
       "      <td>6</td>\n",
       "      <td>-10</td>\n",
       "      <td>1.90</td>\n",
       "      <td>2022-11-22 12:02:59</td>\n",
       "      <td>2022-11-22 12:03:00</td>\n",
       "    </tr>\n",
       "  </tbody>\n",
       "</table>\n",
       "</div>"
      ],
      "text/plain": [
       "   trade_id  strategy_id           open_time          close_time  leg_no  \\\n",
       "0         2            1 2022-11-22 11:49:00 2022-11-22 12:03:00       1   \n",
       "1         2            1 2022-11-22 11:49:00 2022-11-22 12:03:00       1   \n",
       "2         2            1 2022-11-22 11:49:00 2022-11-22 12:03:00       2   \n",
       "3         2            1 2022-11-22 11:49:00 2022-11-22 12:03:00       2   \n",
       "\n",
       "              contract  fill_id  qty   avg      placement_time  \\\n",
       "0  AAPL221202C00148000        3  -10  2.50 2022-11-22 11:49:00   \n",
       "1  AAPL221202C00148000        5   10  2.25 2022-11-22 12:02:59   \n",
       "2  AAPL221202C00150000        4   10  2.00 2022-11-21 11:49:00   \n",
       "3  AAPL221202C00150000        6  -10  1.90 2022-11-22 12:02:59   \n",
       "\n",
       "          filled_time  \n",
       "0 2022-11-22 11:49:01  \n",
       "1 2022-11-22 12:02:59  \n",
       "2 2022-11-21 11:49:01  \n",
       "3 2022-11-22 12:03:00  "
      ]
     },
     "execution_count": 30,
     "metadata": {},
     "output_type": "execute_result"
    }
   ],
   "source": [
    "# Testing get_trade_info\n",
    "\n",
    "# TODO: FIX QUERY\n",
    "\n",
    "cursor.execute(\"\"\"\n",
    "SELECT * from trade join trade_leg on trade.trade_id = trade_leg.trade_id join fill on trade_leg.leg_no = fill.leg_no and trade_leg.trade_id = fill.trade_id\n",
    "where trade.trade_id = '000000002'\n",
    "order by trade_leg.leg_no, fill.placement_time;\n",
    "\"\"\")\n",
    "col_headers = [x[0] for x in cursor.description]\n",
    "json_data = []\n",
    "the_data = cursor.fetchall()\n",
    "for row in the_data:\n",
    "    json_data.append(dict(zip(col_headers, row)))\n",
    "df = pd.DataFrame(json_data)\n",
    "df\n"
   ]
  },
  {
   "cell_type": "code",
   "execution_count": 34,
   "metadata": {},
   "outputs": [
    {
     "data": {
      "text/html": [
       "<div>\n",
       "<style scoped>\n",
       "    .dataframe tbody tr th:only-of-type {\n",
       "        vertical-align: middle;\n",
       "    }\n",
       "\n",
       "    .dataframe tbody tr th {\n",
       "        vertical-align: top;\n",
       "    }\n",
       "\n",
       "    .dataframe thead th {\n",
       "        text-align: right;\n",
       "    }\n",
       "</style>\n",
       "<table border=\"1\" class=\"dataframe\">\n",
       "  <thead>\n",
       "    <tr style=\"text-align: right;\">\n",
       "      <th></th>\n",
       "      <th>leg_no</th>\n",
       "      <th>trade_id</th>\n",
       "      <th>contract</th>\n",
       "      <th>open_time</th>\n",
       "      <th>close_time</th>\n",
       "      <th>fill_id</th>\n",
       "      <th>qty</th>\n",
       "      <th>avg</th>\n",
       "      <th>placement_time</th>\n",
       "      <th>filled_time</th>\n",
       "    </tr>\n",
       "  </thead>\n",
       "  <tbody>\n",
       "    <tr>\n",
       "      <th>0</th>\n",
       "      <td>1</td>\n",
       "      <td>2</td>\n",
       "      <td>AAPL221202C00148000</td>\n",
       "      <td>2022-11-22 11:49:00</td>\n",
       "      <td>2022-11-22 12:03:00</td>\n",
       "      <td>3</td>\n",
       "      <td>-10</td>\n",
       "      <td>2.50</td>\n",
       "      <td>2022-11-22 11:49:00</td>\n",
       "      <td>2022-11-22 11:49:01</td>\n",
       "    </tr>\n",
       "    <tr>\n",
       "      <th>1</th>\n",
       "      <td>1</td>\n",
       "      <td>2</td>\n",
       "      <td>AAPL221202C00148000</td>\n",
       "      <td>2022-11-22 11:49:00</td>\n",
       "      <td>2022-11-22 12:03:00</td>\n",
       "      <td>5</td>\n",
       "      <td>10</td>\n",
       "      <td>2.25</td>\n",
       "      <td>2022-11-22 12:02:59</td>\n",
       "      <td>2022-11-22 12:02:59</td>\n",
       "    </tr>\n",
       "  </tbody>\n",
       "</table>\n",
       "</div>"
      ],
      "text/plain": [
       "   leg_no  trade_id             contract           open_time  \\\n",
       "0       1         2  AAPL221202C00148000 2022-11-22 11:49:00   \n",
       "1       1         2  AAPL221202C00148000 2022-11-22 11:49:00   \n",
       "\n",
       "           close_time  fill_id  qty   avg      placement_time  \\\n",
       "0 2022-11-22 12:03:00        3  -10  2.50 2022-11-22 11:49:00   \n",
       "1 2022-11-22 12:03:00        5   10  2.25 2022-11-22 12:02:59   \n",
       "\n",
       "          filled_time  \n",
       "0 2022-11-22 11:49:01  \n",
       "1 2022-11-22 12:02:59  "
      ]
     },
     "execution_count": 34,
     "metadata": {},
     "output_type": "execute_result"
    }
   ],
   "source": [
    "# Testing get_trade_leg_info\n",
    "cursor.execute(\"\"\"\n",
    "Select * from trade_leg join fill on trade_leg.leg_no = fill.leg_no and trade_leg.trade_id = fill.trade_id\n",
    "where trade_leg.trade_id = '000000002' and trade_leg.leg_no = '1'\n",
    "order by fill.placement_time;\n",
    "\"\"\")\n",
    "col_headers = [x[0] for x in cursor.description]\n",
    "json_data = []\n",
    "the_data = cursor.fetchall()\n",
    "for row in the_data:\n",
    "    json_data.append(dict(zip(col_headers, row)))\n",
    "df = pd.DataFrame(json_data)\n",
    "df"
   ]
  },
  {
   "cell_type": "code",
   "execution_count": 35,
   "metadata": {},
   "outputs": [
    {
     "data": {
      "text/plain": [
       "[{'fill_id': 2,\n",
       "  'leg_no': 1,\n",
       "  'trade_id': 1,\n",
       "  'contract': 'SPY',\n",
       "  'qty': 100,\n",
       "  'avg': 397.0,\n",
       "  'placement_time': datetime.datetime(2022, 11, 21, 12, 24, 58),\n",
       "  'filled_time': datetime.datetime(2022, 11, 21, 12, 25)}]"
      ]
     },
     "execution_count": 35,
     "metadata": {},
     "output_type": "execute_result"
    }
   ],
   "source": [
    "# Testing get_fill_info\n",
    "cursor.execute(\"\"\"\n",
    "Select * from fill where fill.fill_id = '000000002';\n",
    "\"\"\")\n",
    "col_headers = [x[0] for x in cursor.description]\n",
    "json_data = []\n",
    "the_data = cursor.fetchall()\n",
    "for row in the_data:\n",
    "    json_data.append(dict(zip(col_headers, row)))\n",
    "json_data\n",
    "#df = pd.DataFrame(json_data)\n",
    "#df"
   ]
  },
  {
   "cell_type": "code",
   "execution_count": null,
   "metadata": {},
   "outputs": [],
   "source": []
  },
  {
   "cell_type": "code",
   "execution_count": 36,
   "metadata": {},
   "outputs": [
    {
     "data": {
      "text/plain": [
       "[]"
      ]
     },
     "execution_count": 36,
     "metadata": {},
     "output_type": "execute_result"
    }
   ],
   "source": [
    "# Testing get_open_trades\n",
    "strategy = 'MeanReversionLunchBreak'\n",
    "cursor.execute(f\"\"\"\n",
    "Select * from strategy \n",
    "join trade on strategy.strategy_id = trade.strategy_id \n",
    "join trade_leg on trade.trade_id = trade_leg.trade_id \n",
    "join fill on trade_leg.leg_no = fill.leg_no and trade_leg.trade_id = fill.trade_id\n",
    "where strategy.strategy_name = '{strategy}' and trade_leg.close_time is null\n",
    "order by fill.placement_time;\n",
    "\"\"\")\n",
    "col_headers = [x[0] for x in cursor.description]\n",
    "json_data = []\n",
    "the_data = cursor.fetchall()\n",
    "for row in the_data:\n",
    "    json_data.append(dict(zip(col_headers, row)))\n",
    "json_data"
   ]
  },
  {
   "cell_type": "code",
   "execution_count": 21,
   "metadata": {},
   "outputs": [],
   "source": [
    "# Testing get_historical_trades"
   ]
  },
  {
   "cell_type": "code",
   "execution_count": null,
   "metadata": {},
   "outputs": [],
   "source": []
  }
 ],
 "metadata": {
  "kernelspec": {
   "display_name": "Python 3.9.12 ('base')",
   "language": "python",
   "name": "python3"
  },
  "language_info": {
   "codemirror_mode": {
    "name": "ipython",
    "version": 3
   },
   "file_extension": ".py",
   "mimetype": "text/x-python",
   "name": "python",
   "nbconvert_exporter": "python",
   "pygments_lexer": "ipython3",
   "version": "3.9.12"
  },
  "orig_nbformat": 4,
  "vscode": {
   "interpreter": {
    "hash": "6878569262a6e222d2bf9767f8c76a5e9f33c66f4b81d8aa952494e1f3a0e918"
   }
  }
 },
 "nbformat": 4,
 "nbformat_minor": 2
}
