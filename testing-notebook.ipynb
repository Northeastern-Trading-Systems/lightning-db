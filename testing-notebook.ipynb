{
 "cells": [
  {
   "cell_type": "markdown",
   "metadata": {},
   "source": [
    "# Connecting to DB in RDS Guide\n",
    "### Miles Child - November 2022\n",
    "#### Northeastern Trading Systems"
   ]
  },
  {
   "cell_type": "markdown",
   "metadata": {},
   "source": [
    "#### Starting DB and importing necessary packages\n",
    "\n",
    "Once you have created your database in RDS, make sure that it is configured to be publicly accessible and that you've attached a security group that allows inbound/outbound access from 'All Traffic' on both IPv4 and IPv6. Save the login credentials of the DB as soon as you launch the instance.\n",
    "\n",
    "Next, navigate to your local python environment and install the pymysql package. This process can be very messy if done incorrectly the first time, so make sure you do the following:\n",
    "\n",
    "For Python 2.x:\n",
    "- sudo pip install pymysql.\n",
    "\n",
    "For Python 3.x:\n",
    "- sudo pip3 install pymysql.\n",
    "\n",
    "For either running on Anaconda:\n",
    "- sudo conda install pymysql.\n",
    "\n",
    "If that didn't work try APT:\n",
    "- sudo apt-get install pymysql.\n",
    "\n",
    "credit: https://stackoverflow.com/a/49354387/20355075\n",
    "\n",
    "Finally, 'import pymysql' in your project before continuing."
   ]
  },
  {
   "cell_type": "code",
   "execution_count": 1,
   "metadata": {},
   "outputs": [],
   "source": [
    "# imports\n",
    "import pymysql\n",
    "from config import *  # credentials stored here"
   ]
  },
  {
   "cell_type": "markdown",
   "metadata": {},
   "source": [
    "Now, establish a connection to the db by using pymysql.connect(host=<'someurl.rds.amazonaws.com'>, user=<'username'>, password=<'password'>).\n",
    "\n",
    "Create a cursor, which can essentially be regarded as an object that executes your queries (written locally) on the DB, stores the result in-memory, and returns it back to this project. Check that the connection and cursor have been made properly by checking the version of the db."
   ]
  },
  {
   "cell_type": "code",
   "execution_count": 2,
   "metadata": {},
   "outputs": [
    {
     "data": {
      "text/plain": [
       "1"
      ]
     },
     "execution_count": 2,
     "metadata": {},
     "output_type": "execute_result"
    }
   ],
   "source": [
    "connection = pymysql.connect(host=RDS_HOSTNAME, user=RDS_USER, password=RDS_PASSWORD)\n",
    "cursor = connection.cursor()\n",
    "cursor.execute('select version()')"
   ]
  },
  {
   "cell_type": "markdown",
   "metadata": {},
   "source": [
    "After successfully establishing a connection to the RDS instance, create a DB and add the neccessary tables/entities/attributes."
   ]
  },
  {
   "cell_type": "code",
   "execution_count": 3,
   "metadata": {},
   "outputs": [
    {
     "data": {
      "text/plain": [
       "0"
      ]
     },
     "execution_count": 3,
     "metadata": {},
     "output_type": "execute_result"
    }
   ],
   "source": [
    "# Create a new database\n",
    "cursor.execute(\"CREATE DATABASE nts_lightning_db;\")\n",
    "cursor.execute(f\"CREATE USER 'webapp'@'%' IDENTIFIED BY {DOCKER_DB_PASSWORD};\")\n",
    "cursor.execute(\"GRANT ALL PRIVILEGES ON nts_lightning_db.* TO 'webapp'@'%';\")\n",
    "cursor.execute(\"FLUSH PRIVILEGES;\")\n",
    "cursor.execute(\"USE nts_lightning_db;\")"
   ]
  },
  {
   "cell_type": "code",
   "execution_count": 9,
   "metadata": {},
   "outputs": [
    {
     "data": {
      "text/plain": [
       "0"
      ]
     },
     "execution_count": 9,
     "metadata": {},
     "output_type": "execute_result"
    }
   ],
   "source": [
    "# Create the tables\n",
    "cursor.execute(\"\"\"CREATE TABLE strategy (\n",
    "    strategy_name varchar(50),\n",
    "    strategy_id integer AUTO_INCREMENT NOT NULL,\n",
    "    documentation_link varchar(50),\n",
    "    launch_date datetime,\n",
    "    termination_date datetime,\n",
    "    PRIMARY KEY (strategy_id)\n",
    ");\"\"\")"
   ]
  },
  {
   "cell_type": "code",
   "execution_count": 13,
   "metadata": {},
   "outputs": [
    {
     "data": {
      "text/plain": [
       "0"
      ]
     },
     "execution_count": 13,
     "metadata": {},
     "output_type": "execute_result"
    }
   ],
   "source": [
    "cursor.execute(\"\"\"CREATE TABLE trade (\n",
    "    trade_id integer UNIQUE NOT NULL,\n",
    "    strategy_id integer,\n",
    "    open_time datetime,\n",
    "    close_time datetime,\n",
    "    PRIMARY KEY (trade_id),\n",
    "    CONSTRAINT fk_1 \n",
    "        FOREIGN KEY (strategy_id) REFERENCES strategy(strategy_id)\n",
    "        ON UPDATE cascade ON DELETE restrict\n",
    ");\"\"\")"
   ]
  },
  {
   "cell_type": "code",
   "execution_count": 15,
   "metadata": {},
   "outputs": [
    {
     "data": {
      "text/plain": [
       "0"
      ]
     },
     "execution_count": 15,
     "metadata": {},
     "output_type": "execute_result"
    }
   ],
   "source": [
    "cursor.execute(\"\"\"CREATE TABLE trade_leg (\n",
    "    leg_no integer NOT NULL,\n",
    "    trade_id integer NOT NULL,\n",
    "    contract varchar(50),\n",
    "    open_time datetime,\n",
    "    close_time datetime,\n",
    "    PRIMARY KEY(leg_no, trade_id),\n",
    "    CONSTRAINT fk_2\n",
    "        FOREIGN KEY (trade_id) REFERENCES trade (trade_id)\n",
    "        ON UPDATE restrict ON DELETE restrict\n",
    ");\"\"\")"
   ]
  },
  {
   "cell_type": "code",
   "execution_count": 18,
   "metadata": {},
   "outputs": [
    {
     "data": {
      "text/plain": [
       "0"
      ]
     },
     "execution_count": 18,
     "metadata": {},
     "output_type": "execute_result"
    }
   ],
   "source": [
    "cursor.execute(\"\"\"CREATE TABLE fill (\n",
    "    fill_id integer NOT NULL,\n",
    "    leg_no integer NOT NULL,\n",
    "    trade_id integer NOT NULL,\n",
    "    contract varchar(50),\n",
    "    qty integer,\n",
    "    avg float(32),\n",
    "    placement_time datetime,\n",
    "    filled_time datetime,\n",
    "    PRIMARY KEY (fill_id),\n",
    "    CONSTRAINT fk_3\n",
    "        FOREIGN KEY (leg_no, trade_id) REFERENCES trade_leg (leg_no, trade_id)\n",
    "        ON UPDATE cascade ON DELETE restrict\n",
    ");\"\"\")"
   ]
  },
  {
   "cell_type": "markdown",
   "metadata": {},
   "source": [
    "After creating the database architecture, insert testing (or historical) data into the tables.\n",
    "\n",
    "note: mockaroo is good for generating dummy data https://www.mockaroo.com/"
   ]
  },
  {
   "cell_type": "code",
   "execution_count": 20,
   "metadata": {},
   "outputs": [
    {
     "data": {
      "text/plain": [
       "1"
      ]
     },
     "execution_count": 20,
     "metadata": {},
     "output_type": "execute_result"
    }
   ],
   "source": [
    "# Strategy Dummy Data\n",
    "cursor.execute(\"\"\"insert into strategy (strategy_name, strategy_id, documentation_link, launch_date, termination_date) \n",
    "values \n",
    "('MeanReversionLunchBreak', '1', 'https://github.com/QuantConnect/Lean/blob/master/Algorithm.Python/Alphas/MeanReversionLunchBreakAlpha.py',\n",
    " '2022-11-20 00:00:00', NULL);\"\"\")\n"
   ]
  },
  {
   "cell_type": "code",
   "execution_count": 21,
   "metadata": {},
   "outputs": [
    {
     "data": {
      "text/plain": [
       "1"
      ]
     },
     "execution_count": 21,
     "metadata": {},
     "output_type": "execute_result"
    }
   ],
   "source": [
    "# Trade Dummy Data\n",
    "cursor.execute(\"\"\"insert into trade (trade_id, strategy_id, open_time, close_time) \n",
    "values \n",
    "('000000001', '1', '2022-11-21 12:00:00', '2022-11-21 12:25:00');\n",
    "\"\"\")\n",
    "cursor.execute(\"\"\"insert into trade (trade_id, strategy_id, open_time, close_time) \n",
    "values \n",
    "('000000002', '1', '2022-11-22 11:49:00', '2022-11-22 12:03:00');\n",
    "\"\"\")"
   ]
  },
  {
   "cell_type": "code",
   "execution_count": 22,
   "metadata": {},
   "outputs": [
    {
     "data": {
      "text/plain": [
       "1"
      ]
     },
     "execution_count": 22,
     "metadata": {},
     "output_type": "execute_result"
    }
   ],
   "source": [
    "# Trade Leg Dummy Data\n",
    "cursor.execute(\"\"\"insert into trade_leg (leg_no, trade_id, contract, open_time, close_time) \n",
    "values \n",
    "('1', '000000001', 'SPY', '2022-11-21 12:00:00', '2022-11-21 12:25:00');\n",
    "\"\"\")\n",
    "\n",
    "# note: the below data represents the following trade:\n",
    "# Seller of AAPL 148/150 Dec. 02 call spread\n",
    "cursor.execute(\"\"\"insert into trade_leg (leg_no, trade_id, contract, open_time, close_time) \n",
    "values \n",
    "('1', '000000002', 'AAPL221202C00148000', '2022-11-22 11:49:00', '2022-11-22 12:03:00');\n",
    "\"\"\")\n",
    "cursor.execute(\"\"\"insert into trade_leg (leg_no, trade_id, contract, open_time, close_time) \n",
    "values \n",
    "('2', '000000002', 'AAPL221202C00150000', '2022-11-22 11:49:00', '2022-11-22 12:03:00');\n",
    "\"\"\")"
   ]
  },
  {
   "cell_type": "code",
   "execution_count": 30,
   "metadata": {},
   "outputs": [
    {
     "data": {
      "text/plain": [
       "1"
      ]
     },
     "execution_count": 30,
     "metadata": {},
     "output_type": "execute_result"
    }
   ],
   "source": [
    "# Fill Dummy Data\n",
    "cursor.execute(\"\"\"insert into fill (fill_id, leg_no, trade_id, contract, qty, avg, placement_time, filled_time) \n",
    "values \n",
    "('000000001', '1', '000000001', 'SPY', '-100', '400.00', '2022-11-21 12:00:00', '2022-11-21 12:00:01');\n",
    "\"\"\")\n",
    "\n",
    "cursor.execute(\"\"\"insert into fill (fill_id, leg_no, trade_id, contract, qty, avg, placement_time, filled_time) \n",
    "values \n",
    "('000000002', '1', '000000001', 'SPY', '100', '397.00', '2022-11-21 12:24:58', '2022-11-21 12:25:00');\n",
    "\"\"\")\n",
    "\n",
    "\n",
    "# note: the below data represents the following trade:\n",
    "# Seller of AAPL 148/150 Dec. 02 call spread 2.50 @ 2.00, 10 x 10\n",
    "\n",
    "cursor.execute(\"\"\"insert into fill (fill_id, leg_no, trade_id, contract, qty, avg, placement_time, filled_time) \n",
    "values \n",
    "('000000003', '1', '000000002', 'AAPL221202C00148000', '-10', '2.50', '2022-11-22 11:49:00', '2022-11-22 11:49:01');\n",
    "\"\"\")\n",
    "\n",
    "cursor.execute(\"\"\"insert into fill (fill_id, leg_no, trade_id, contract, qty, avg, placement_time, filled_time) \n",
    "values \n",
    "('000000004', '2', '000000002', 'AAPL221202C00150000', '10', '2.00', '2022-11-21 11:49:00', '2022-11-21 11:49:01');\n",
    "\"\"\")\n",
    "\n",
    "cursor.execute(\"\"\"insert into fill (fill_id, leg_no, trade_id, contract, qty, avg, placement_time, filled_time) \n",
    "values \n",
    "('000000005', '1', '000000002', 'AAPL221202C00148000', '10', '2.25', '2022-11-22 12:02:59', '2022-11-22 12:02:59');\n",
    "\"\"\")\n",
    "\n",
    "cursor.execute(\"\"\"insert into fill (fill_id, leg_no, trade_id, contract, qty, avg, placement_time, filled_time) \n",
    "values \n",
    "('000000006', '2', '000000002', 'AAPL221202C00150000', '-10', '1.90', '2022-11-22 12:02:59', '2022-11-22 12:03:00');\n",
    "\"\"\")"
   ]
  },
  {
   "cell_type": "code",
   "execution_count": 35,
   "metadata": {},
   "outputs": [
    {
     "data": {
      "text/plain": [
       "[{'fill_id': 1,\n",
       "  'leg_no': 1,\n",
       "  'trade_id': 1,\n",
       "  'contract': 'SPY',\n",
       "  'qty': -100,\n",
       "  'avg': 400.0,\n",
       "  'placement_time': datetime.datetime(2022, 11, 21, 12, 0),\n",
       "  'filled_time': datetime.datetime(2022, 11, 21, 12, 0, 1)},\n",
       " {'fill_id': 2,\n",
       "  'leg_no': 1,\n",
       "  'trade_id': 1,\n",
       "  'contract': 'SPY',\n",
       "  'qty': 100,\n",
       "  'avg': 397.0,\n",
       "  'placement_time': datetime.datetime(2022, 11, 21, 12, 24, 58),\n",
       "  'filled_time': datetime.datetime(2022, 11, 21, 12, 25)},\n",
       " {'fill_id': 3,\n",
       "  'leg_no': 1,\n",
       "  'trade_id': 2,\n",
       "  'contract': 'AAPL221202C00148000',\n",
       "  'qty': -10,\n",
       "  'avg': 2.5,\n",
       "  'placement_time': datetime.datetime(2022, 11, 22, 11, 49),\n",
       "  'filled_time': datetime.datetime(2022, 11, 22, 11, 49, 1)},\n",
       " {'fill_id': 4,\n",
       "  'leg_no': 2,\n",
       "  'trade_id': 2,\n",
       "  'contract': 'AAPL221202C00150000',\n",
       "  'qty': 10,\n",
       "  'avg': 2.0,\n",
       "  'placement_time': datetime.datetime(2022, 11, 21, 11, 49),\n",
       "  'filled_time': datetime.datetime(2022, 11, 21, 11, 49, 1)},\n",
       " {'fill_id': 5,\n",
       "  'leg_no': 1,\n",
       "  'trade_id': 2,\n",
       "  'contract': 'AAPL221202C00148000',\n",
       "  'qty': 10,\n",
       "  'avg': 2.25,\n",
       "  'placement_time': datetime.datetime(2022, 11, 22, 12, 2, 59),\n",
       "  'filled_time': datetime.datetime(2022, 11, 22, 12, 2, 59)},\n",
       " {'fill_id': 6,\n",
       "  'leg_no': 2,\n",
       "  'trade_id': 2,\n",
       "  'contract': 'AAPL221202C00150000',\n",
       "  'qty': -10,\n",
       "  'avg': 1.9,\n",
       "  'placement_time': datetime.datetime(2022, 11, 22, 12, 2, 59),\n",
       "  'filled_time': datetime.datetime(2022, 11, 22, 12, 3)}]"
      ]
     },
     "execution_count": 35,
     "metadata": {},
     "output_type": "execute_result"
    }
   ],
   "source": [
    "# Testing that all dummy data was inserted properly and exists in the db.\n",
    "\n",
    "cursor.execute('SELECT * from fill;')\n",
    "col_headers = [x[0] for x in cursor.description]\n",
    "json_data = []\n",
    "the_data = cursor.fetchall()\n",
    "for row in the_data:\n",
    "    json_data.append(dict(zip(col_headers, row)))\n",
    "json_data"
   ]
  },
  {
   "cell_type": "code",
   "execution_count": null,
   "metadata": {},
   "outputs": [],
   "source": []
  }
 ],
 "metadata": {
  "kernelspec": {
   "display_name": "Python 3.9.12 ('base')",
   "language": "python",
   "name": "python3"
  },
  "language_info": {
   "codemirror_mode": {
    "name": "ipython",
    "version": 3
   },
   "file_extension": ".py",
   "mimetype": "text/x-python",
   "name": "python",
   "nbconvert_exporter": "python",
   "pygments_lexer": "ipython3",
   "version": "3.9.12"
  },
  "orig_nbformat": 4,
  "vscode": {
   "interpreter": {
    "hash": "6878569262a6e222d2bf9767f8c76a5e9f33c66f4b81d8aa952494e1f3a0e918"
   }
  }
 },
 "nbformat": 4,
 "nbformat_minor": 2
}
